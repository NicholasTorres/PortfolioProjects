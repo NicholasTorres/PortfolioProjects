{
 "cells": [
  {
   "cell_type": "code",
   "execution_count": 199,
   "id": "7745374c",
   "metadata": {},
   "outputs": [],
   "source": [
    "# Importing Libraries\n",
    "\n",
    "from bs4 import BeautifulSoup\n",
    "import requests\n",
    "import smtplib\n",
    "import time\n",
    "import datetime\n",
    "import pandas as pd"
   ]
  },
  {
   "cell_type": "code",
   "execution_count": 200,
   "id": "3ed5a092",
   "metadata": {},
   "outputs": [
    {
     "name": "stdout",
     "output_type": "stream",
     "text": [
      "\n",
      "                   Keurig K-Express Essentials Single Serve K-Cup Pod Coffee Maker, Black\n",
      "                  \n",
      "\n",
      "                     Now $49.00\n",
      "                    \n"
     ]
    }
   ],
   "source": [
    "# Connecting to Walmart Webpage\n",
    "\n",
    "URL = 'https://www.walmart.com/ip/Keurig-K-Express-Essentials-Black-Single-Serve-K-Cup-Pod-Coffee-Maker/426294330?from=/search'\n",
    "\n",
    "headers = {\"User-Agent\": \"Mozilla/5.0 (Windows NT 10.0; Win64; x64) AppleWebKit/537.36 (KHTML, like Gecko) Chrome/120.0.0.0 Safari/537.36\"}\n",
    "\n",
    "page = requests.get(URL, headers=headers)\n",
    "\n",
    "soup1 = BeautifulSoup(page.content, \"html.parser\")\n",
    "\n",
    "soup2 = BeautifulSoup(soup1.prettify(), \"html.parser\")\n",
    "\n",
    "title = soup2.find(id='main-title').get_text()\n",
    "\n",
    "price = soup2.find(itemprop='price').get_text()\n",
    "\n",
    "print(title)\n",
    "\n",
    "print(price)\n",
    "\n",
    "\n",
    "\n",
    "\n",
    "\n",
    "\n",
    "\n",
    "\n",
    "\n",
    "\n",
    "\n"
   ]
  },
  {
   "cell_type": "code",
   "execution_count": 201,
   "id": "2d969248",
   "metadata": {},
   "outputs": [
    {
     "name": "stdout",
     "output_type": "stream",
     "text": [
      "Keurig K-Express Essentials Single Serve K-Cup Pod Coffee Maker, Black\n",
      "49.00\n",
      "2023-12-31\n"
     ]
    }
   ],
   "source": [
    "# Cleaning up title, price and time\n",
    "\n",
    "price = price.strip()[5:]\n",
    "title = title.strip()\n",
    "print(title)\n",
    "print(price)\n",
    "\n",
    "today = datetime.date.today()\n",
    "\n",
    "print(today)"
   ]
  },
  {
   "cell_type": "code",
   "execution_count": 207,
   "id": "678f91ea",
   "metadata": {},
   "outputs": [],
   "source": [
    "# Creating csv \n",
    "\n",
    "import csv\n",
    "\n",
    "header = ['Title', 'Price' , 'Date']\n",
    "data = [title, price, today]\n",
    "\n",
    "with open('WalmartScraper1.csv', 'w', newline='', encoding='UTF8') as f:\n",
    "    writer = csv.writer(f)\n",
    "    writer.writerow(header)\n",
    "    writer.writerow(data)"
   ]
  },
  {
   "cell_type": "code",
   "execution_count": 210,
   "id": "115b2ac1",
   "metadata": {},
   "outputs": [
    {
     "name": "stdout",
     "output_type": "stream",
     "text": [
      "                                               Title  Price        Date\n",
      "0  Keurig K-Express Essentials Single Serve K-Cup...   49.0  2023-12-31\n",
      "1  Keurig K-Express Essentials Single Serve K-Cup...   49.0  2023-12-31\n"
     ]
    }
   ],
   "source": [
    "# Testing Dataset\n",
    "\n",
    "df = pd.read_csv(r'C:\\Users\\Shlim\\WalmartScraper1.csv')\n",
    "\n",
    "print(df)"
   ]
  },
  {
   "cell_type": "code",
   "execution_count": 211,
   "id": "648da225",
   "metadata": {},
   "outputs": [],
   "source": [
    "# Appending Data to csv\n",
    "\n",
    "with open('WalmartScraper1.csv', 'a+', newline='', encoding='UTF8') as f:\n",
    "    writer = csv.writer(f)\n",
    "    writer.writerow(data)"
   ]
  },
  {
   "cell_type": "code",
   "execution_count": 212,
   "id": "014260e9",
   "metadata": {},
   "outputs": [],
   "source": [
    "# Code to import into csv and send an automatic email notification\n",
    "\n",
    "def check_price():\n",
    "    URL = 'https://www.walmart.com/ip/Keurig-K-Express-Essentials-Black-Single-Serve-K-Cup-Pod-Coffee-Maker/426294330?from=/search'\n",
    "\n",
    "    headers = {\"User-Agent\": \"Mozilla/5.0 (Windows NT 10.0; Win64; x64) AppleWebKit/537.36 (KHTML, like Gecko) Chrome/120.0.0.0 Safari/537.36\"}\n",
    "\n",
    "    page = requests.get(URL, headers=headers)\n",
    "\n",
    "    soup1 = BeautifulSoup(page.content, \"html.parser\")\n",
    "\n",
    "    soup2 = BeautifulSoup(soup1.prettify(), \"html.parser\")\n",
    "\n",
    "    title = soup2.find(id='main-title').get_text()\n",
    "\n",
    "    price = soup2.find(itemprop='price').get_text()\n",
    "    \n",
    "    price = price.strip()[5:]\n",
    "    title = title.strip()\n",
    "    \n",
    "    import datetime\n",
    "    today = datetime.date.today()\n",
    "    \n",
    "    import csv\n",
    "\n",
    "    header = ['Title', 'Price' , 'Date']\n",
    "    data = [title, price, today]\n",
    "    \n",
    "    with open('WalmartScraper1.csv', 'a+', newline='', encoding='UTF8') as f:\n",
    "        writer = csv.writer(f)\n",
    "        writer.writerow(data)\n",
    "        \n",
    "    if(price > 40)\n",
    "        send_mail()"
   ]
  },
  {
   "cell_type": "code",
   "execution_count": null,
   "id": "49310b16",
   "metadata": {},
   "outputs": [],
   "source": [
    "# Setting it to check price every day\n",
    "\n",
    "while(True):\n",
    "    check_price()\n",
    "    time.sleep(86400)"
   ]
  },
  {
   "cell_type": "code",
   "execution_count": 218,
   "id": "29d4ca71",
   "metadata": {},
   "outputs": [
    {
     "name": "stdout",
     "output_type": "stream",
     "text": [
      "                                               Title  Price        Date\n",
      "0  Keurig K-Express Essentials Single Serve K-Cup...   49.0  2023-12-31\n",
      "1  Keurig K-Express Essentials Single Serve K-Cup...   49.0  2023-12-31\n",
      "2  Keurig K-Express Essentials Single Serve K-Cup...   49.0  2023-12-31\n",
      "3  Keurig K-Express Essentials Single Serve K-Cup...   49.0  2023-12-31\n",
      "4  Keurig K-Express Essentials Single Serve K-Cup...   49.0  2023-12-31\n",
      "5  Keurig K-Express Essentials Single Serve K-Cup...   49.0  2023-12-31\n",
      "6  Keurig K-Express Essentials Single Serve K-Cup...   49.0  2023-12-31\n",
      "7  Keurig K-Express Essentials Single Serve K-Cup...   49.0  2023-12-31\n",
      "8  Keurig K-Express Essentials Single Serve K-Cup...   49.0  2023-12-31\n",
      "9  Keurig K-Express Essentials Single Serve K-Cup...   49.0  2023-12-31\n"
     ]
    }
   ],
   "source": [
    "# Showing Dataset\n",
    "\n",
    "import pandas as pd\n",
    "\n",
    "df = pd.read_csv(r'C:\\Users\\Shlim\\WalmartScraper1.csv')\n",
    "\n",
    "print(df)"
   ]
  },
  {
   "cell_type": "code",
   "execution_count": null,
   "id": "7aecda4d",
   "metadata": {},
   "outputs": [],
   "source": [
    "# Code to send the automatic email\n",
    "\n",
    "def send_mail():\n",
    "    server = smtplib.SMTP_SSL('smtp.gmail.com',465)\n",
    "    server.ehlo()\n",
    "    #server.starttls()\n",
    "    server.ehlo()\n",
    "    server.login('nicholastorres071996@gmail,com','Password_not_included_with_code!')\n",
    "    \n",
    "    subject = \"Keurig is now below 40!\"\n",
    "    body = \"Link to purchase: https://www.walmart.com/ip/Keurig-K-Express-Essentials-Black-Single-Serve-K-Cup-Pod-Coffee-Maker/426294330?from=/search \"\n",
    "   \n",
    "    msg = f\"Subject: {subject}\\n\\n{body}\"\n",
    "    \n",
    "    server.sendmail(\n",
    "        'nicholastorres071996@gmail,com',\n",
    "        msg\n",
    "     \n",
    "    )"
   ]
  }
 ],
 "metadata": {
  "kernelspec": {
   "display_name": "Python 3 (ipykernel)",
   "language": "python",
   "name": "python3"
  },
  "language_info": {
   "codemirror_mode": {
    "name": "ipython",
    "version": 3
   },
   "file_extension": ".py",
   "mimetype": "text/x-python",
   "name": "python",
   "nbconvert_exporter": "python",
   "pygments_lexer": "ipython3",
   "version": "3.11.5"
  }
 },
 "nbformat": 4,
 "nbformat_minor": 5
}
